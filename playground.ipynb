{
 "cells": [
  {
   "cell_type": "code",
   "execution_count": 2,
   "metadata": {},
   "outputs": [
    {
     "name": "stdout",
     "output_type": "stream",
     "text": [
      "DEBUG SOCHAIN:\n",
      "{'status': 'success', 'data': {'network': 'DOGETEST', 'address': 'nVtAwZ2b8ubrcjSDdjm8WdUjXvd97QhtEi', 'txs': [{'txid': 'fc1acac664220491bcff14c5fbe51ff0b0157d5e767c259dc27265224d2bcca5', 'output_no': 0, 'script_asm': 'OP_DUP OP_HASH160 12895461978968d47d8aad7ace8b7adcecfc361d OP_EQUALVERIFY OP_CHECKSIG', 'script_hex': '76a91412895461978968d47d8aad7ace8b7adcecfc361d88ac', 'value': '81.72680000', 'confirmations': 14217, 'time': 1654291034}]}}\n",
      "nVtAwZ2b8ubrcjSDdjm8WdUjXvd97QhtEi\n",
      "[{'output': 'fc1acac664220491bcff14c5fbe51ff0b0157d5e767c259dc27265224d2bcca5:0', 'value': 8172680000}]\n"
     ]
    }
   ],
   "source": [
    "from pycryptotools import *\n",
    "# from coins import *\n",
    "\n",
    "c = Doge(testnet=True)\n",
    "priv = sha256('tamhuynh')\n",
    "pub = c.privtopub(priv)\n",
    "addr = c.pubtoaddr(pub)\n",
    "inputs = c.unspent_web(addr)\n",
    "# outs = [{'value': 269845600, 'address': '2N8hwP1WmJrFF5QWABn38y63uYLhnJYJYTF'}, {'value': 100000, 'address': 'mrvHv6ggk5gFMatuJtBKAzktTU1N3MYdu2'}]\n",
    "# tx = c.mktx(inputs,outs)\n",
    "# tx2 = c.sign(tx,0,priv)\n",
    "# tx3 = c.sign(tx2,1,priv)\n",
    "# tx4 = c.serialize(tx)\n",
    "# c.pushtx(tx4)\n",
    "print(addr)\n",
    "print(inputs)\n"
   ]
  },
  {
   "cell_type": "code",
   "execution_count": 106,
   "metadata": {},
   "outputs": [
    {
     "name": "stdout",
     "output_type": "stream",
     "text": [
      "length of key 32 \n",
      "key 04fdd6a444e5f3c241dc6fe3766d9719\n",
      "b'\\x04\\xfd\\xd6\\xa4D\\xe5\\xf3\\xc2A\\xdco\\xe3vm\\x97\\x19'\n",
      "agent upgrade poverty mean game thrive alter mistake toddler recall grape crew\n"
     ]
    }
   ],
   "source": [
    "\n",
    "# k = random_key() # this use os random function go get 32byte (64 hex numbers)\n",
    "k = random_electrum_seed() # this will truncate the random_key() to 16byte (32 hex number)\n",
    "print('length of key', len(k), '\\nkey', k)\n",
    "print(bytes.fromhex(k))\n",
    "seed = entropy_to_words(bytes.fromhex(k))\n",
    "print(seed)"
   ]
  },
  {
   "cell_type": "code",
   "execution_count": 133,
   "metadata": {},
   "outputs": [
    {
     "name": "stdout",
     "output_type": "stream",
     "text": [
      "seed words: glow powder solar range choice bless modify world enhance end link vocal\n",
      "Generated address with index=0: DC7tWvsdrJciEB7tAfHJB6hXauJPVg7vRy\n",
      "Generated address with index=1: DK5gVjLSzQtyC6R8x9e3VioxEJG6WxPkE7\n",
      "Generated address with index=2: DR91i28jGkkE3u9Q9ZtcfJExKmfuSZMeaj\n",
      "Generated address with index=3: DTbR9qkHL9hKzk9kqrAAhjLJt7WzFE3VhE\n",
      "Generated address with index=4: D839CDzVpxwNw8JevHSfLf9Ex8JK1e1U8q\n",
      "Generated address with index=5: DDqnYJEvJ22HHAHCCHokRtEHt4V2Sxo9yT\n",
      "Generated address with index=6: DDQ3DJBHa5Ezjari6ThEdw6fJZeLqHGZEp\n",
      "Generated address with index=7: DBrUx2p7SrvnScFiwNJLftrD57wfCjvzPY\n",
      "Generated address with index=8: DGPdA5kdJvGGVU4b6bSxFxLzJbXEcaFgtE\n",
      "Generated address with index=9: DGT7PMGbvXwpxtC2rgohZVC8dwn6UZHCD9\n"
     ]
    },
    {
     "data": {
      "text/plain": [
       "'DGT7PMGbvXwpxtC2rgohZVC8dwn6UZHCD9'"
      ]
     },
     "execution_count": 133,
     "metadata": {},
     "output_type": "execute_result"
    }
   ],
   "source": [
    "# Steps to create a wallet from mnemonic words and passphrase (optional for wallet)\n",
    "\n",
    "# 1. generate random seed (hex-byte value) using OS random generator. Seed will be 12 (or 24) mnemonic english words\n",
    "k = random_electrum_seed() # this will truncate the random_key() to 16byte (32 hex number)\n",
    "seed = entropy_to_words(bytes.fromhex(k))\n",
    "\n",
    "# 2. initialize coin class\n",
    "d = Doge(testnet=False)  # Doge, Bitcoin\n",
    "\n",
    "# 3. generate wallet for this coin from seed, set passphrase for wallet (optional). seed words is required to reload wallet.\n",
    "seed = 'glow powder solar range choice bless modify world enhance end link vocal' # example seed\n",
    "print(f'seed words: {seed}')\n",
    "w = d.wallet(seed=seed, passphrase='tam')\n",
    "\n",
    "# 4. generate a new address\n",
    "for n in range(10):\n",
    "    addr = w.receiving_address(n)\n",
    "    print(f'Generated address with index={n}: {addr}')\n",
    "\n",
    "# Regenerate private key and public key from address\n",
    "priv = w.privkey(addr)\n",
    "pub = d.privtopub(priv)\n",
    "d.pubtoaddr(pub)"
   ]
  }
 ],
 "metadata": {
  "kernelspec": {
   "display_name": "Python 3.9.12 64-bit (windows store)",
   "language": "python",
   "name": "python3"
  },
  "language_info": {
   "codemirror_mode": {
    "name": "ipython",
    "version": 3
   },
   "file_extension": ".py",
   "mimetype": "text/x-python",
   "name": "python",
   "nbconvert_exporter": "python",
   "pygments_lexer": "ipython3",
   "version": "3.9.13"
  },
  "orig_nbformat": 4,
  "vscode": {
   "interpreter": {
    "hash": "85cf75bdd35ac54105d0937bda6bd57c378039762217b0fcf469d0be3eda46f1"
   }
  }
 },
 "nbformat": 4,
 "nbformat_minor": 2
}
